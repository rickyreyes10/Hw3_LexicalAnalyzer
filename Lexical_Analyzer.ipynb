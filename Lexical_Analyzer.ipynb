{
 "cells": [
  {
   "cell_type": "code",
   "execution_count": 5,
   "id": "d9671aad",
   "metadata": {},
   "outputs": [
    {
     "name": "stdout",
     "output_type": "stream",
     "text": [
      "The autoreload extension is already loaded. To reload it, use:\n",
      "  %reload_ext autoreload\n"
     ]
    }
   ],
   "source": [
    "#Token class is used here to create the individual tokens that were identified in lexer class\n",
    "#__init__ constructor used to initialize the object \n",
    "#__repr__ special method in python that will give a string representation of the object\n",
    "\n",
    "class Token:\n",
    "    def __init__(self, token_identity, value):\n",
    "        self.token_identity = token_identity\n",
    "        self.value = value\n",
    "        \n",
    "    def __repr__(self):\n",
    "        return f\"{self.token_identity}: {self.value}\"\n",
    "    \n",
    "\n",
    "\n",
    "import re     #python module used for the regular expressions\n",
    "\n",
    "class Lexer: \n",
    "    math_operations = [       #list of all the operations. Each tuple defines the regular expression of each token type\n",
    "        (r'\\+', 'ADDITION'),\n",
    "        (r'\\-', 'SUBTRACTION'),\n",
    "        (r'\\*', 'MULTIPLICATION'),\n",
    "        (r'/', 'DIVISION'),\n",
    "        (r'%', 'MODULO'),\n",
    "        (r'\\(', 'GROUPING_SYMBOL'),\n",
    "        (r'\\)', 'GROUPING_SYMBOL'),\n",
    "        (r'=', 'ASSIGNMENT'),\n",
    "        (r'==', 'EQUALS'),\n",
    "        (r'<', 'LESS_THAN'),\n",
    "        (r'<=', 'LESS_THAN_OR_EQUAL_TO'),\n",
    "        (r'>', 'GREATER_THAN_OR_EQUAL_TO'),\n",
    "        (r'&&', 'LOGICAL_AND'),\n",
    "        (r'\\|\\|', 'LOGICAL_OR'),\n",
    "        (r'[a-z]', 'VARIABLE_IDENTIFIER'),\n",
    "        (r'\\d+(i8|i16|i32|i64)?', 'INTEGER_LITERAL'),\n",
    "        (r'\\d+\\.\\d+', 'FLOATING_POINT_LITERAL'),\n",
    "        (r'\\s+', None),       #whitespaces will be ignored and not identified as a token identity (i.e. 'None')\n",
    "        \n",
    "    ]\n",
    "    \n",
    "    #Tokenization function will perform the lexical analysis on the given text\n",
    "    #the function will return a list of the individual tokens identified from the text\n",
    "    def Tokenization(self, text):\n",
    "        the_tokens = []       \n",
    "        current_position = 0     #index of current character that will be analyzed in the text\n",
    "        \n",
    "        while current_position < len(text):   #while loop that will iterate all the text\n",
    "            matcher = None    #variable that will store the string (from text) that are a match with one of the operations in math_operantions\n",
    "            for operator, token_identity in self.math_operations:      #for loop that iterates all the tuples in math_operantions. Each tuples regex(operator) and token identity(token_identity)\n",
    "                matcher = re.match(operator, text[current_position:])   #re.match() re module function used here to try to match the current 'operator' (regex) against the text at the current position (index). If a match is succesful then the object is assigned to matcher variable\n",
    "                if matcher:   #if the above code is succesful and has a match then we continue\n",
    "                    value = matcher.group(0)   #using .group(0) to group the entire substring of text that was found as a match starting from first index (0). the matched value(character(s) from text) is assigned to variable value\n",
    "                    if token_identity:    #checking to make sure that matcher is not a whitespace. this would happen if 'operator' matched the whitespace regex which means the token_identity would be 'None'. If it's 'None' then we can't enter the if statement\n",
    "                        the_tokens.append(Token(token_identity, value))  #creating a Token object with the matched token identity and it's value then appending to the tokens list\n",
    "                    current_position = current_position + len(value)  #moving the current position to the next character(s) to be tokenized by adding it to the length of variable value so we know that we aren't tokenizing a piece of text that was already part of a substring that was already tokenized \n",
    "                    break\n",
    "            \n",
    "        return the_tokens    #while loop ends and the_tokens list containing all the identified tokens in the text is returned\n",
    "\n",
    "\n",
    "#commands used to run this code in jupyter notebook\n",
    "%load_ext autoreload\n",
    "%autoreload 2"
   ]
  },
  {
   "cell_type": "code",
   "execution_count": 6,
   "id": "8f911c51",
   "metadata": {},
   "outputs": [
    {
     "name": "stdout",
     "output_type": "stream",
     "text": [
      "[VARIABLE_IDENTIFIER: a, ASSIGNMENT: =, GROUPING_SYMBOL: (, INTEGER_LITERAL: 12, MULTIPLICATION: *, INTEGER_LITERAL: 3, MULTIPLICATION: *, INTEGER_LITERAL: 4, ADDITION: +, INTEGER_LITERAL: 7, GROUPING_SYMBOL: ), DIVISION: /, INTEGER_LITERAL: 2]\n",
      "Total number of tokens identified:  13\n"
     ]
    }
   ],
   "source": [
    "textfile_example = \"exampleHW3.txt\"\n",
    "\n",
    "with open(textfile_example, \"r\") as f:\n",
    "    text = f.read()\n",
    "    \n",
    "lexer = Lexer()   #lexer object is created\n",
    "output_tokens = lexer.Tokenization(text)   #using lexer object to tokenize the text\n",
    "\n",
    "print(output_tokens)\n",
    "print(\"Total number of tokens identified: \", len(output_tokens))"
   ]
  },
  {
   "cell_type": "code",
   "execution_count": null,
   "id": "c220ca5e",
   "metadata": {},
   "outputs": [],
   "source": []
  }
 ],
 "metadata": {
  "kernelspec": {
   "display_name": "Python 3 (ipykernel)",
   "language": "python",
   "name": "python3"
  },
  "language_info": {
   "codemirror_mode": {
    "name": "ipython",
    "version": 3
   },
   "file_extension": ".py",
   "mimetype": "text/x-python",
   "name": "python",
   "nbconvert_exporter": "python",
   "pygments_lexer": "ipython3",
   "version": "3.9.13"
  }
 },
 "nbformat": 4,
 "nbformat_minor": 5
}
